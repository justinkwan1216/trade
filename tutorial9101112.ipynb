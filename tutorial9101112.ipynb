{
 "cells": [
  {
   "cell_type": "code",
   "execution_count": 1,
   "metadata": {},
   "outputs": [],
   "source": [
    "import bs4 as bs\n",
    "import datetime as dt\n",
    "import matplotlib.pyplot as plt\n",
    "from matplotlib import style\n",
    "import numpy as np\n",
    "import os\n",
    "import pandas as pd\n",
    "import pandas_datareader.data as web\n",
    "import pickle\n",
    "import requests\n",
    "from collections import Counter\n",
    "from sklearn.model_selection import cross_validate\n",
    "from sklearn.model_selection import train_test_split\n",
    "from sklearn import svm, neighbors\n",
    "from sklearn.ensemble import VotingClassifier, RandomForestClassifier\n",
    "def process_data_for_labels(ticker):\n",
    "    hm_days = 7\n",
    "    df = pd.read_csv('sp500_joined_closes.csv', index_col=0)\n",
    "    tickers = df.columns.values.tolist()\n",
    "    df.fillna(0, inplace=True)\n",
    "\n",
    "    for i in range(1,hm_days+1):\n",
    "        df['{}_{}d'.format(ticker,i)] = (df[ticker].shift(-i) - df[ticker]) / df[ticker]\n",
    "\n",
    "    df.fillna(0, inplace=True)\n",
    "    return tickers, df\n",
    "\n",
    "a, b = process_data_for_labels('XOM')\n",
    "\n",
    "def buy_sell_hold(*args):\n",
    "    cols = [c for c in args]\n",
    "    requirement = 0.02\n",
    "    for col in cols:\n",
    "        if col > requirement:\n",
    "            return 1\n",
    "        if col < -requirement:\n",
    "            return -1\n",
    "    return 0"
   ]
  },
  {
   "cell_type": "code",
   "execution_count": 2,
   "metadata": {},
   "outputs": [],
   "source": [
    "def extract_featuresets(ticker):\n",
    "    tickers, df = process_data_for_labels(ticker)\n",
    "\n",
    "    df['{}_target'.format(ticker)] = list(map( buy_sell_hold,\n",
    "                                               df['{}_1d'.format(ticker)],\n",
    "                                               df['{}_2d'.format(ticker)],\n",
    "                                               df['{}_3d'.format(ticker)],\n",
    "                                               df['{}_4d'.format(ticker)],\n",
    "                                               df['{}_5d'.format(ticker)],\n",
    "                                               df['{}_6d'.format(ticker)],\n",
    "                                               df['{}_7d'.format(ticker)] ))\n",
    "    #print(df.head())\n",
    "    vals = df['{}_target'.format(ticker)].values.tolist()\n",
    "    str_vals = [str(i) for i in vals]\n",
    "    print('Data spread:',Counter(str_vals))\n",
    "    df.fillna(0, inplace=True)\n",
    "    df = df.replace([np.inf, -np.inf], np.nan)\n",
    "    df.dropna(inplace=True)\n",
    "    df_vals = df[[ticker for ticker in tickers]].pct_change()\n",
    "    df_vals = df_vals.replace([np.inf, -np.inf], 0)\n",
    "    df_vals.fillna(0, inplace=True)\n",
    "    X = df_vals.values\n",
    "    y = df['{}_target'.format(ticker)].values\n",
    "\n",
    "    return X,y,df\n",
    "#extract_featuresets('XOM')"
   ]
  },
  {
   "cell_type": "code",
   "execution_count": 3,
   "metadata": {},
   "outputs": [
    {
     "name": "stdout",
     "output_type": "stream",
     "text": [
      "Data spread: Counter({'-1': 1347, '1': 1224, '0': 59})\n"
     ]
    },
    {
     "name": "stderr",
     "output_type": "stream",
     "text": [
      "c:\\users\\jk\\anaconda3\\envs\\trade\\lib\\site-packages\\sklearn\\svm\\_base.py:947: ConvergenceWarning: Liblinear failed to converge, increase the number of iterations.\n",
      "  \"the number of iterations.\", ConvergenceWarning)\n"
     ]
    },
    {
     "name": "stdout",
     "output_type": "stream",
     "text": [
      "accuracy: 0.5045592705167173\n",
      "predicted class counts: Counter({-1: 434, 1: 223, 0: 1})\n",
      "\n",
      "\n",
      "Data spread: Counter({'-1': 1376, '1': 1201, '0': 53})\n"
     ]
    },
    {
     "name": "stderr",
     "output_type": "stream",
     "text": [
      "c:\\users\\jk\\anaconda3\\envs\\trade\\lib\\site-packages\\sklearn\\svm\\_base.py:947: ConvergenceWarning: Liblinear failed to converge, increase the number of iterations.\n",
      "  \"the number of iterations.\", ConvergenceWarning)\n"
     ]
    },
    {
     "name": "stdout",
     "output_type": "stream",
     "text": [
      "accuracy: 0.5501519756838906\n",
      "predicted class counts: Counter({-1: 376, 1: 281, 0: 1})\n",
      "\n",
      "\n",
      "Data spread: Counter({'-1': 1340, '1': 1215, '0': 75})\n"
     ]
    },
    {
     "name": "stderr",
     "output_type": "stream",
     "text": [
      "c:\\users\\jk\\anaconda3\\envs\\trade\\lib\\site-packages\\sklearn\\svm\\_base.py:947: ConvergenceWarning: Liblinear failed to converge, increase the number of iterations.\n",
      "  \"the number of iterations.\", ConvergenceWarning)\n"
     ]
    },
    {
     "name": "stdout",
     "output_type": "stream",
     "text": [
      "accuracy: 0.47416413373860183\n",
      "predicted class counts: Counter({-1: 401, 1: 256, 0: 1})\n",
      "\n",
      "\n"
     ]
    },
    {
     "data": {
      "text/plain": [
       "0.47416413373860183"
      ]
     },
     "execution_count": 3,
     "metadata": {},
     "output_type": "execute_result"
    }
   ],
   "source": [
    "def do_ml(ticker):\n",
    "    X, y, df = extract_featuresets(ticker)\n",
    "\n",
    "    X_train, X_test, y_train, y_test = train_test_split(X, y, test_size=0.25)\n",
    "\n",
    "    clf = VotingClassifier([('lsvc', svm.LinearSVC()),\n",
    "                            ('knn', neighbors.KNeighborsClassifier()),\n",
    "                            ('rfor', RandomForestClassifier())])\n",
    "\n",
    "    clf.fit(X_train, y_train)\n",
    "    confidence = clf.score(X_test, y_test)\n",
    "    print('accuracy:', confidence)\n",
    "    predictions = clf.predict(X_test)\n",
    "    print('predicted class counts:', Counter(predictions))\n",
    "    print()\n",
    "    print()\n",
    "    return confidence\n",
    "\n",
    "\n",
    "# examples of running:\n",
    "do_ml('XOM')\n",
    "do_ml('AAPL')\n",
    "do_ml('ABT')"
   ]
  },
  {
   "cell_type": "code",
   "execution_count": null,
   "metadata": {},
   "outputs": [
    {
     "name": "stdout",
     "output_type": "stream",
     "text": [
      "0\n",
      "Data spread: Counter({'-1': 921, '1': 905, '0': 804})\n"
     ]
    },
    {
     "name": "stderr",
     "output_type": "stream",
     "text": [
      "c:\\users\\jk\\anaconda3\\envs\\trade\\lib\\site-packages\\sklearn\\svm\\_base.py:947: ConvergenceWarning: Liblinear failed to converge, increase the number of iterations.\n",
      "  \"the number of iterations.\", ConvergenceWarning)\n"
     ]
    },
    {
     "name": "stdout",
     "output_type": "stream",
     "text": [
      "accuracy: 0.5304878048780488\n",
      "predicted class counts: Counter({-1: 356, 1: 168, 0: 132})\n",
      "\n",
      "\n",
      "ZTS accuracy: 0.5304878048780488. Average accuracy:0.5304878048780488\n",
      "Data spread: Counter({'-1': 921, '1': 905, '0': 804})\n"
     ]
    },
    {
     "name": "stderr",
     "output_type": "stream",
     "text": [
      "c:\\users\\jk\\anaconda3\\envs\\trade\\lib\\site-packages\\sklearn\\svm\\_base.py:947: ConvergenceWarning: Liblinear failed to converge, increase the number of iterations.\n",
      "  \"the number of iterations.\", ConvergenceWarning)\n"
     ]
    },
    {
     "name": "stdout",
     "output_type": "stream",
     "text": [
      "accuracy: 0.5548780487804879\n",
      "predicted class counts: Counter({-1: 357, 1: 159, 0: 140})\n",
      "\n",
      "\n",
      "ZTS accuracy: 0.5548780487804879. Average accuracy:0.5426829268292683\n",
      "Data spread: Counter({'-1': 921, '1': 905, '0': 804})\n"
     ]
    },
    {
     "name": "stderr",
     "output_type": "stream",
     "text": [
      "c:\\users\\jk\\anaconda3\\envs\\trade\\lib\\site-packages\\sklearn\\svm\\_base.py:947: ConvergenceWarning: Liblinear failed to converge, increase the number of iterations.\n",
      "  \"the number of iterations.\", ConvergenceWarning)\n"
     ]
    },
    {
     "name": "stdout",
     "output_type": "stream",
     "text": [
      "accuracy: 0.4878048780487805\n",
      "predicted class counts: Counter({-1: 391, 1: 152, 0: 113})\n",
      "\n",
      "\n",
      "ZTS accuracy: 0.4878048780487805. Average accuracy:0.524390243902439\n",
      "Data spread: Counter({'-1': 921, '1': 905, '0': 804})\n"
     ]
    },
    {
     "name": "stderr",
     "output_type": "stream",
     "text": [
      "c:\\users\\jk\\anaconda3\\envs\\trade\\lib\\site-packages\\sklearn\\svm\\_base.py:947: ConvergenceWarning: Liblinear failed to converge, increase the number of iterations.\n",
      "  \"the number of iterations.\", ConvergenceWarning)\n"
     ]
    },
    {
     "name": "stdout",
     "output_type": "stream",
     "text": [
      "accuracy: 0.5091463414634146\n",
      "predicted class counts: Counter({-1: 339, 1: 187, 0: 130})\n",
      "\n",
      "\n",
      "ZTS accuracy: 0.5091463414634146. Average accuracy:0.520579268292683\n",
      "Data spread: Counter({'-1': 921, '1': 905, '0': 804})\n"
     ]
    },
    {
     "name": "stderr",
     "output_type": "stream",
     "text": [
      "c:\\users\\jk\\anaconda3\\envs\\trade\\lib\\site-packages\\sklearn\\svm\\_base.py:947: ConvergenceWarning: Liblinear failed to converge, increase the number of iterations.\n",
      "  \"the number of iterations.\", ConvergenceWarning)\n"
     ]
    },
    {
     "name": "stdout",
     "output_type": "stream",
     "text": [
      "accuracy: 0.5121951219512195\n",
      "predicted class counts: Counter({-1: 336, 1: 176, 0: 144})\n",
      "\n",
      "\n",
      "ZTS accuracy: 0.5121951219512195. Average accuracy:0.5189024390243903\n",
      "Data spread: Counter({'-1': 921, '1': 905, '0': 804})\n"
     ]
    },
    {
     "name": "stderr",
     "output_type": "stream",
     "text": [
      "c:\\users\\jk\\anaconda3\\envs\\trade\\lib\\site-packages\\sklearn\\svm\\_base.py:947: ConvergenceWarning: Liblinear failed to converge, increase the number of iterations.\n",
      "  \"the number of iterations.\", ConvergenceWarning)\n"
     ]
    },
    {
     "name": "stdout",
     "output_type": "stream",
     "text": [
      "accuracy: 0.524390243902439\n",
      "predicted class counts: Counter({-1: 298, 1: 210, 0: 148})\n",
      "\n",
      "\n",
      "ZTS accuracy: 0.524390243902439. Average accuracy:0.5198170731707317\n",
      "Data spread: Counter({'-1': 921, '1': 905, '0': 804})\n"
     ]
    },
    {
     "name": "stderr",
     "output_type": "stream",
     "text": [
      "c:\\users\\jk\\anaconda3\\envs\\trade\\lib\\site-packages\\sklearn\\svm\\_base.py:947: ConvergenceWarning: Liblinear failed to converge, increase the number of iterations.\n",
      "  \"the number of iterations.\", ConvergenceWarning)\n"
     ]
    },
    {
     "name": "stdout",
     "output_type": "stream",
     "text": [
      "accuracy: 0.5121951219512195\n",
      "predicted class counts: Counter({-1: 370, 1: 145, 0: 141})\n",
      "\n",
      "\n",
      "ZTS accuracy: 0.5121951219512195. Average accuracy:0.5187282229965157\n",
      "Data spread: Counter({'-1': 921, '1': 905, '0': 804})\n"
     ]
    },
    {
     "name": "stderr",
     "output_type": "stream",
     "text": [
      "c:\\users\\jk\\anaconda3\\envs\\trade\\lib\\site-packages\\sklearn\\svm\\_base.py:947: ConvergenceWarning: Liblinear failed to converge, increase the number of iterations.\n",
      "  \"the number of iterations.\", ConvergenceWarning)\n"
     ]
    },
    {
     "name": "stdout",
     "output_type": "stream",
     "text": [
      "accuracy: 0.5274390243902439\n",
      "predicted class counts: Counter({-1: 307, 1: 198, 0: 151})\n",
      "\n",
      "\n",
      "ZTS accuracy: 0.5274390243902439. Average accuracy:0.5198170731707317\n",
      "Data spread: Counter({'-1': 921, '1': 905, '0': 804})\n"
     ]
    },
    {
     "name": "stderr",
     "output_type": "stream",
     "text": [
      "c:\\users\\jk\\anaconda3\\envs\\trade\\lib\\site-packages\\sklearn\\svm\\_base.py:947: ConvergenceWarning: Liblinear failed to converge, increase the number of iterations.\n",
      "  \"the number of iterations.\", ConvergenceWarning)\n"
     ]
    },
    {
     "name": "stdout",
     "output_type": "stream",
     "text": [
      "accuracy: 0.510670731707317\n",
      "predicted class counts: Counter({-1: 332, 1: 218, 0: 106})\n",
      "\n",
      "\n",
      "ZTS accuracy: 0.510670731707317. Average accuracy:0.5188008130081301\n",
      "Data spread: Counter({'-1': 921, '1': 905, '0': 804})\n"
     ]
    },
    {
     "name": "stderr",
     "output_type": "stream",
     "text": [
      "c:\\users\\jk\\anaconda3\\envs\\trade\\lib\\site-packages\\sklearn\\svm\\_base.py:947: ConvergenceWarning: Liblinear failed to converge, increase the number of iterations.\n",
      "  \"the number of iterations.\", ConvergenceWarning)\n"
     ]
    },
    {
     "name": "stdout",
     "output_type": "stream",
     "text": [
      "accuracy: 0.5182926829268293\n",
      "predicted class counts: Counter({-1: 366, 1: 164, 0: 126})\n",
      "\n",
      "\n",
      "ZTS accuracy: 0.5182926829268293. Average accuracy:0.51875\n",
      "10\n",
      "Data spread: Counter({'-1': 921, '1': 905, '0': 804})\n"
     ]
    },
    {
     "name": "stderr",
     "output_type": "stream",
     "text": [
      "c:\\users\\jk\\anaconda3\\envs\\trade\\lib\\site-packages\\sklearn\\svm\\_base.py:947: ConvergenceWarning: Liblinear failed to converge, increase the number of iterations.\n",
      "  \"the number of iterations.\", ConvergenceWarning)\n"
     ]
    },
    {
     "name": "stdout",
     "output_type": "stream",
     "text": [
      "accuracy: 0.49390243902439024\n",
      "predicted class counts: Counter({-1: 403, 1: 129, 0: 124})\n",
      "\n",
      "\n",
      "ZTS accuracy: 0.49390243902439024. Average accuracy:0.5164911308203991\n",
      "Data spread: Counter({'-1': 921, '1': 905, '0': 804})\n"
     ]
    },
    {
     "name": "stderr",
     "output_type": "stream",
     "text": [
      "c:\\users\\jk\\anaconda3\\envs\\trade\\lib\\site-packages\\sklearn\\svm\\_base.py:947: ConvergenceWarning: Liblinear failed to converge, increase the number of iterations.\n",
      "  \"the number of iterations.\", ConvergenceWarning)\n"
     ]
    },
    {
     "name": "stdout",
     "output_type": "stream",
     "text": [
      "accuracy: 0.4801829268292683\n",
      "predicted class counts: Counter({-1: 416, 1: 134, 0: 106})\n",
      "\n",
      "\n",
      "ZTS accuracy: 0.4801829268292683. Average accuracy:0.5134654471544715\n",
      "Data spread: Counter({'-1': 921, '1': 905, '0': 804})\n"
     ]
    },
    {
     "name": "stderr",
     "output_type": "stream",
     "text": [
      "c:\\users\\jk\\anaconda3\\envs\\trade\\lib\\site-packages\\sklearn\\svm\\_base.py:947: ConvergenceWarning: Liblinear failed to converge, increase the number of iterations.\n",
      "  \"the number of iterations.\", ConvergenceWarning)\n"
     ]
    },
    {
     "name": "stdout",
     "output_type": "stream",
     "text": [
      "accuracy: 0.5213414634146342\n",
      "predicted class counts: Counter({-1: 309, 1: 213, 0: 134})\n",
      "\n",
      "\n",
      "ZTS accuracy: 0.5213414634146342. Average accuracy:0.5140712945590995\n",
      "Data spread: Counter({'-1': 921, '1': 905, '0': 804})\n"
     ]
    },
    {
     "name": "stderr",
     "output_type": "stream",
     "text": [
      "c:\\users\\jk\\anaconda3\\envs\\trade\\lib\\site-packages\\sklearn\\svm\\_base.py:947: ConvergenceWarning: Liblinear failed to converge, increase the number of iterations.\n",
      "  \"the number of iterations.\", ConvergenceWarning)\n"
     ]
    },
    {
     "name": "stdout",
     "output_type": "stream",
     "text": [
      "accuracy: 0.5167682926829268\n",
      "predicted class counts: Counter({-1: 333, 1: 188, 0: 135})\n",
      "\n",
      "\n",
      "ZTS accuracy: 0.5167682926829268. Average accuracy:0.51426393728223\n",
      "Data spread: Counter({'-1': 921, '1': 905, '0': 804})\n"
     ]
    },
    {
     "name": "stderr",
     "output_type": "stream",
     "text": [
      "c:\\users\\jk\\anaconda3\\envs\\trade\\lib\\site-packages\\sklearn\\svm\\_base.py:947: ConvergenceWarning: Liblinear failed to converge, increase the number of iterations.\n",
      "  \"the number of iterations.\", ConvergenceWarning)\n"
     ]
    },
    {
     "name": "stdout",
     "output_type": "stream",
     "text": [
      "accuracy: 0.5350609756097561\n",
      "predicted class counts: Counter({-1: 370, 1: 150, 0: 136})\n",
      "\n",
      "\n",
      "ZTS accuracy: 0.5350609756097561. Average accuracy:0.515650406504065\n",
      "Data spread: Counter({'-1': 921, '1': 905, '0': 804})\n"
     ]
    },
    {
     "name": "stderr",
     "output_type": "stream",
     "text": [
      "c:\\users\\jk\\anaconda3\\envs\\trade\\lib\\site-packages\\sklearn\\svm\\_base.py:947: ConvergenceWarning: Liblinear failed to converge, increase the number of iterations.\n",
      "  \"the number of iterations.\", ConvergenceWarning)\n"
     ]
    },
    {
     "name": "stdout",
     "output_type": "stream",
     "text": [
      "accuracy: 0.5457317073170732\n",
      "predicted class counts: Counter({-1: 323, 1: 184, 0: 149})\n",
      "\n",
      "\n",
      "ZTS accuracy: 0.5457317073170732. Average accuracy:0.5175304878048781\n",
      "Data spread: Counter({'-1': 921, '1': 905, '0': 804})\n"
     ]
    },
    {
     "name": "stderr",
     "output_type": "stream",
     "text": [
      "c:\\users\\jk\\anaconda3\\envs\\trade\\lib\\site-packages\\sklearn\\svm\\_base.py:947: ConvergenceWarning: Liblinear failed to converge, increase the number of iterations.\n",
      "  \"the number of iterations.\", ConvergenceWarning)\n"
     ]
    },
    {
     "name": "stdout",
     "output_type": "stream",
     "text": [
      "accuracy: 0.5076219512195121\n",
      "predicted class counts: Counter({-1: 353, 1: 168, 0: 135})\n",
      "\n",
      "\n",
      "ZTS accuracy: 0.5076219512195121. Average accuracy:0.5169476327116213\n",
      "Data spread: Counter({'-1': 921, '1': 905, '0': 804})\n"
     ]
    },
    {
     "name": "stderr",
     "output_type": "stream",
     "text": [
      "c:\\users\\jk\\anaconda3\\envs\\trade\\lib\\site-packages\\sklearn\\svm\\_base.py:947: ConvergenceWarning: Liblinear failed to converge, increase the number of iterations.\n",
      "  \"the number of iterations.\", ConvergenceWarning)\n"
     ]
    },
    {
     "name": "stdout",
     "output_type": "stream",
     "text": [
      "accuracy: 0.5030487804878049\n",
      "predicted class counts: Counter({-1: 350, 1: 194, 0: 112})\n",
      "\n",
      "\n",
      "ZTS accuracy: 0.5030487804878049. Average accuracy:0.5161754742547425\n",
      "Data spread: Counter({'-1': 921, '1': 905, '0': 804})\n"
     ]
    },
    {
     "name": "stderr",
     "output_type": "stream",
     "text": [
      "c:\\users\\jk\\anaconda3\\envs\\trade\\lib\\site-packages\\sklearn\\svm\\_base.py:947: ConvergenceWarning: Liblinear failed to converge, increase the number of iterations.\n",
      "  \"the number of iterations.\", ConvergenceWarning)\n"
     ]
    },
    {
     "name": "stdout",
     "output_type": "stream",
     "text": [
      "accuracy: 0.49085365853658536\n",
      "predicted class counts: Counter({-1: 351, 1: 160, 0: 145})\n",
      "\n",
      "\n",
      "ZTS accuracy: 0.49085365853658536. Average accuracy:0.5148427471116817\n",
      "Data spread: Counter({'-1': 921, '1': 905, '0': 804})\n"
     ]
    },
    {
     "name": "stderr",
     "output_type": "stream",
     "text": [
      "c:\\users\\jk\\anaconda3\\envs\\trade\\lib\\site-packages\\sklearn\\svm\\_base.py:947: ConvergenceWarning: Liblinear failed to converge, increase the number of iterations.\n",
      "  \"the number of iterations.\", ConvergenceWarning)\n"
     ]
    },
    {
     "name": "stdout",
     "output_type": "stream",
     "text": [
      "accuracy: 0.5167682926829268\n",
      "predicted class counts: Counter({-1: 306, 1: 215, 0: 135})\n",
      "\n",
      "\n",
      "ZTS accuracy: 0.5167682926829268. Average accuracy:0.5149390243902439\n",
      "20\n",
      "Data spread: Counter({'-1': 921, '1': 905, '0': 804})\n"
     ]
    },
    {
     "name": "stderr",
     "output_type": "stream",
     "text": [
      "c:\\users\\jk\\anaconda3\\envs\\trade\\lib\\site-packages\\sklearn\\svm\\_base.py:947: ConvergenceWarning: Liblinear failed to converge, increase the number of iterations.\n",
      "  \"the number of iterations.\", ConvergenceWarning)\n"
     ]
    },
    {
     "name": "stdout",
     "output_type": "stream",
     "text": [
      "accuracy: 0.5274390243902439\n",
      "predicted class counts: Counter({-1: 325, 1: 184, 0: 147})\n",
      "\n",
      "\n",
      "ZTS accuracy: 0.5274390243902439. Average accuracy:0.515534262485482\n",
      "Data spread: Counter({'-1': 921, '1': 905, '0': 804})\n"
     ]
    },
    {
     "name": "stderr",
     "output_type": "stream",
     "text": [
      "c:\\users\\jk\\anaconda3\\envs\\trade\\lib\\site-packages\\sklearn\\svm\\_base.py:947: ConvergenceWarning: Liblinear failed to converge, increase the number of iterations.\n",
      "  \"the number of iterations.\", ConvergenceWarning)\n"
     ]
    },
    {
     "name": "stdout",
     "output_type": "stream",
     "text": [
      "accuracy: 0.5533536585365854\n",
      "predicted class counts: Counter({-1: 350, 1: 185, 0: 121})\n",
      "\n",
      "\n",
      "ZTS accuracy: 0.5533536585365854. Average accuracy:0.5172533259423503\n",
      "Data spread: Counter({'-1': 921, '1': 905, '0': 804})\n"
     ]
    },
    {
     "name": "stderr",
     "output_type": "stream",
     "text": [
      "c:\\users\\jk\\anaconda3\\envs\\trade\\lib\\site-packages\\sklearn\\svm\\_base.py:947: ConvergenceWarning: Liblinear failed to converge, increase the number of iterations.\n",
      "  \"the number of iterations.\", ConvergenceWarning)\n"
     ]
    },
    {
     "name": "stdout",
     "output_type": "stream",
     "text": [
      "accuracy: 0.5365853658536586\n",
      "predicted class counts: Counter({-1: 333, 1: 180, 0: 143})\n",
      "\n",
      "\n",
      "ZTS accuracy: 0.5365853658536586. Average accuracy:0.5180938494167551\n",
      "Data spread: Counter({'-1': 921, '1': 905, '0': 804})\n"
     ]
    },
    {
     "name": "stderr",
     "output_type": "stream",
     "text": [
      "c:\\users\\jk\\anaconda3\\envs\\trade\\lib\\site-packages\\sklearn\\svm\\_base.py:947: ConvergenceWarning: Liblinear failed to converge, increase the number of iterations.\n",
      "  \"the number of iterations.\", ConvergenceWarning)\n"
     ]
    },
    {
     "name": "stdout",
     "output_type": "stream",
     "text": [
      "accuracy: 0.5365853658536586\n",
      "predicted class counts: Counter({-1: 362, 1: 155, 0: 139})\n",
      "\n",
      "\n",
      "ZTS accuracy: 0.5365853658536586. Average accuracy:0.5188643292682927\n",
      "Data spread: Counter({'-1': 921, '1': 905, '0': 804})\n"
     ]
    },
    {
     "name": "stderr",
     "output_type": "stream",
     "text": [
      "c:\\users\\jk\\anaconda3\\envs\\trade\\lib\\site-packages\\sklearn\\svm\\_base.py:947: ConvergenceWarning: Liblinear failed to converge, increase the number of iterations.\n",
      "  \"the number of iterations.\", ConvergenceWarning)\n"
     ]
    },
    {
     "name": "stdout",
     "output_type": "stream",
     "text": [
      "accuracy: 0.4801829268292683\n",
      "predicted class counts: Counter({-1: 416, 1: 123, 0: 117})\n",
      "\n",
      "\n",
      "ZTS accuracy: 0.4801829268292683. Average accuracy:0.5173170731707317\n",
      "Data spread: Counter({'-1': 921, '1': 905, '0': 804})\n"
     ]
    },
    {
     "name": "stderr",
     "output_type": "stream",
     "text": [
      "c:\\users\\jk\\anaconda3\\envs\\trade\\lib\\site-packages\\sklearn\\svm\\_base.py:947: ConvergenceWarning: Liblinear failed to converge, increase the number of iterations.\n",
      "  \"the number of iterations.\", ConvergenceWarning)\n"
     ]
    },
    {
     "name": "stdout",
     "output_type": "stream",
     "text": [
      "accuracy: 0.5091463414634146\n",
      "predicted class counts: Counter({-1: 320, 1: 216, 0: 120})\n",
      "\n",
      "\n",
      "ZTS accuracy: 0.5091463414634146. Average accuracy:0.5170028142589118\n",
      "Data spread: Counter({'-1': 921, '1': 905, '0': 804})\n"
     ]
    },
    {
     "name": "stderr",
     "output_type": "stream",
     "text": [
      "c:\\users\\jk\\anaconda3\\envs\\trade\\lib\\site-packages\\sklearn\\svm\\_base.py:947: ConvergenceWarning: Liblinear failed to converge, increase the number of iterations.\n",
      "  \"the number of iterations.\", ConvergenceWarning)\n"
     ]
    },
    {
     "name": "stdout",
     "output_type": "stream",
     "text": [
      "accuracy: 0.4878048780487805\n",
      "predicted class counts: Counter({-1: 343, 1: 188, 0: 125})\n",
      "\n",
      "\n",
      "ZTS accuracy: 0.4878048780487805. Average accuracy:0.5159214092140921\n",
      "Data spread: Counter({'-1': 921, '1': 905, '0': 804})\n"
     ]
    },
    {
     "name": "stderr",
     "output_type": "stream",
     "text": [
      "c:\\users\\jk\\anaconda3\\envs\\trade\\lib\\site-packages\\sklearn\\svm\\_base.py:947: ConvergenceWarning: Liblinear failed to converge, increase the number of iterations.\n",
      "  \"the number of iterations.\", ConvergenceWarning)\n"
     ]
    },
    {
     "name": "stdout",
     "output_type": "stream",
     "text": [
      "accuracy: 0.48628048780487804\n",
      "predicted class counts: Counter({-1: 388, 1: 148, 0: 120})\n",
      "\n",
      "\n",
      "ZTS accuracy: 0.48628048780487804. Average accuracy:0.5148628048780488\n",
      "Data spread: Counter({'-1': 921, '1': 905, '0': 804})\n"
     ]
    },
    {
     "name": "stderr",
     "output_type": "stream",
     "text": [
      "c:\\users\\jk\\anaconda3\\envs\\trade\\lib\\site-packages\\sklearn\\svm\\_base.py:947: ConvergenceWarning: Liblinear failed to converge, increase the number of iterations.\n",
      "  \"the number of iterations.\", ConvergenceWarning)\n"
     ]
    },
    {
     "name": "stdout",
     "output_type": "stream",
     "text": [
      "accuracy: 0.510670731707317\n",
      "predicted class counts: Counter({-1: 304, 1: 227, 0: 125})\n",
      "\n",
      "\n",
      "ZTS accuracy: 0.510670731707317. Average accuracy:0.5147182506307821\n",
      "Data spread: Counter({'-1': 921, '1': 905, '0': 804})\n"
     ]
    },
    {
     "name": "stderr",
     "output_type": "stream",
     "text": [
      "c:\\users\\jk\\anaconda3\\envs\\trade\\lib\\site-packages\\sklearn\\svm\\_base.py:947: ConvergenceWarning: Liblinear failed to converge, increase the number of iterations.\n",
      "  \"the number of iterations.\", ConvergenceWarning)\n"
     ]
    },
    {
     "name": "stdout",
     "output_type": "stream",
     "text": [
      "accuracy: 0.5198170731707317\n",
      "predicted class counts: Counter({-1: 359, 1: 179, 0: 118})\n",
      "\n",
      "\n",
      "ZTS accuracy: 0.5198170731707317. Average accuracy:0.5148882113821138\n",
      "30\n",
      "Data spread: Counter({'-1': 921, '1': 905, '0': 804})\n"
     ]
    },
    {
     "name": "stderr",
     "output_type": "stream",
     "text": [
      "c:\\users\\jk\\anaconda3\\envs\\trade\\lib\\site-packages\\sklearn\\svm\\_base.py:947: ConvergenceWarning: Liblinear failed to converge, increase the number of iterations.\n",
      "  \"the number of iterations.\", ConvergenceWarning)\n"
     ]
    },
    {
     "name": "stdout",
     "output_type": "stream",
     "text": [
      "accuracy: 0.5274390243902439\n",
      "predicted class counts: Counter({-1: 342, 1: 202, 0: 112})\n",
      "\n",
      "\n",
      "ZTS accuracy: 0.5274390243902439. Average accuracy:0.5152930763178599\n",
      "Data spread: Counter({'-1': 921, '1': 905, '0': 804})\n"
     ]
    },
    {
     "name": "stderr",
     "output_type": "stream",
     "text": [
      "c:\\users\\jk\\anaconda3\\envs\\trade\\lib\\site-packages\\sklearn\\svm\\_base.py:947: ConvergenceWarning: Liblinear failed to converge, increase the number of iterations.\n",
      "  \"the number of iterations.\", ConvergenceWarning)\n"
     ]
    },
    {
     "name": "stdout",
     "output_type": "stream",
     "text": [
      "accuracy: 0.5350609756097561\n",
      "predicted class counts: Counter({-1: 380, 0: 145, 1: 131})\n",
      "\n",
      "\n",
      "ZTS accuracy: 0.5350609756097561. Average accuracy:0.5159108231707317\n",
      "Data spread: Counter({'-1': 921, '1': 905, '0': 804})\n"
     ]
    },
    {
     "name": "stderr",
     "output_type": "stream",
     "text": [
      "c:\\users\\jk\\anaconda3\\envs\\trade\\lib\\site-packages\\sklearn\\svm\\_base.py:947: ConvergenceWarning: Liblinear failed to converge, increase the number of iterations.\n",
      "  \"the number of iterations.\", ConvergenceWarning)\n"
     ]
    },
    {
     "name": "stdout",
     "output_type": "stream",
     "text": [
      "accuracy: 0.5472560975609756\n",
      "predicted class counts: Counter({-1: 340, 1: 169, 0: 147})\n",
      "\n",
      "\n",
      "ZTS accuracy: 0.5472560975609756. Average accuracy:0.516860679970436\n",
      "Data spread: Counter({'-1': 921, '1': 905, '0': 804})\n"
     ]
    },
    {
     "name": "stderr",
     "output_type": "stream",
     "text": [
      "c:\\users\\jk\\anaconda3\\envs\\trade\\lib\\site-packages\\sklearn\\svm\\_base.py:947: ConvergenceWarning: Liblinear failed to converge, increase the number of iterations.\n",
      "  \"the number of iterations.\", ConvergenceWarning)\n"
     ]
    },
    {
     "name": "stdout",
     "output_type": "stream",
     "text": [
      "accuracy: 0.48628048780487804\n",
      "predicted class counts: Counter({-1: 335, 1: 194, 0: 127})\n",
      "\n",
      "\n",
      "ZTS accuracy: 0.48628048780487804. Average accuracy:0.515961262553802\n",
      "Data spread: Counter({'-1': 921, '1': 905, '0': 804})\n"
     ]
    },
    {
     "name": "stderr",
     "output_type": "stream",
     "text": [
      "c:\\users\\jk\\anaconda3\\envs\\trade\\lib\\site-packages\\sklearn\\svm\\_base.py:947: ConvergenceWarning: Liblinear failed to converge, increase the number of iterations.\n",
      "  \"the number of iterations.\", ConvergenceWarning)\n"
     ]
    },
    {
     "name": "stdout",
     "output_type": "stream",
     "text": [
      "accuracy: 0.5076219512195121\n",
      "predicted class counts: Counter({-1: 343, 1: 193, 0: 120})\n",
      "\n",
      "\n",
      "ZTS accuracy: 0.5076219512195121. Average accuracy:0.5157229965156794\n",
      "Data spread: Counter({'-1': 921, '1': 905, '0': 804})\n"
     ]
    },
    {
     "name": "stderr",
     "output_type": "stream",
     "text": [
      "c:\\users\\jk\\anaconda3\\envs\\trade\\lib\\site-packages\\sklearn\\svm\\_base.py:947: ConvergenceWarning: Liblinear failed to converge, increase the number of iterations.\n",
      "  \"the number of iterations.\", ConvergenceWarning)\n"
     ]
    },
    {
     "name": "stdout",
     "output_type": "stream",
     "text": [
      "accuracy: 0.5121951219512195\n",
      "predicted class counts: Counter({-1: 388, 1: 135, 0: 133})\n",
      "\n",
      "\n",
      "ZTS accuracy: 0.5121951219512195. Average accuracy:0.515625\n",
      "Data spread: Counter({'-1': 921, '1': 905, '0': 804})\n"
     ]
    },
    {
     "name": "stderr",
     "output_type": "stream",
     "text": [
      "c:\\users\\jk\\anaconda3\\envs\\trade\\lib\\site-packages\\sklearn\\svm\\_base.py:947: ConvergenceWarning: Liblinear failed to converge, increase the number of iterations.\n",
      "  \"the number of iterations.\", ConvergenceWarning)\n"
     ]
    },
    {
     "name": "stdout",
     "output_type": "stream",
     "text": [
      "accuracy: 0.5060975609756098\n",
      "predicted class counts: Counter({-1: 340, 1: 198, 0: 118})\n",
      "\n",
      "\n",
      "ZTS accuracy: 0.5060975609756098. Average accuracy:0.5153675016479895\n",
      "Data spread: Counter({'-1': 921, '1': 905, '0': 804})\n"
     ]
    },
    {
     "name": "stderr",
     "output_type": "stream",
     "text": [
      "c:\\users\\jk\\anaconda3\\envs\\trade\\lib\\site-packages\\sklearn\\svm\\_base.py:947: ConvergenceWarning: Liblinear failed to converge, increase the number of iterations.\n",
      "  \"the number of iterations.\", ConvergenceWarning)\n"
     ]
    },
    {
     "name": "stdout",
     "output_type": "stream",
     "text": [
      "accuracy: 0.5091463414634146\n",
      "predicted class counts: Counter({-1: 336, 1: 177, 0: 143})\n",
      "\n",
      "\n",
      "ZTS accuracy: 0.5091463414634146. Average accuracy:0.5152037869062901\n",
      "Data spread: Counter({'-1': 921, '1': 905, '0': 804})\n"
     ]
    },
    {
     "name": "stderr",
     "output_type": "stream",
     "text": [
      "c:\\users\\jk\\anaconda3\\envs\\trade\\lib\\site-packages\\sklearn\\svm\\_base.py:947: ConvergenceWarning: Liblinear failed to converge, increase the number of iterations.\n",
      "  \"the number of iterations.\", ConvergenceWarning)\n"
     ]
    },
    {
     "name": "stdout",
     "output_type": "stream",
     "text": [
      "accuracy: 0.4740853658536585\n",
      "predicted class counts: Counter({-1: 319, 1: 233, 0: 104})\n",
      "\n",
      "\n",
      "ZTS accuracy: 0.4740853658536585. Average accuracy:0.5141494684177611\n",
      "Data spread: Counter({'-1': 921, '1': 905, '0': 804})\n"
     ]
    },
    {
     "name": "stderr",
     "output_type": "stream",
     "text": [
      "c:\\users\\jk\\anaconda3\\envs\\trade\\lib\\site-packages\\sklearn\\svm\\_base.py:947: ConvergenceWarning: Liblinear failed to converge, increase the number of iterations.\n",
      "  \"the number of iterations.\", ConvergenceWarning)\n"
     ]
    },
    {
     "name": "stdout",
     "output_type": "stream",
     "text": [
      "accuracy: 0.5320121951219512\n",
      "predicted class counts: Counter({-1: 365, 1: 158, 0: 133})\n",
      "\n",
      "\n",
      "ZTS accuracy: 0.5320121951219512. Average accuracy:0.5145960365853659\n",
      "40\n",
      "Data spread: Counter({'-1': 921, '1': 905, '0': 804})\n"
     ]
    },
    {
     "name": "stderr",
     "output_type": "stream",
     "text": [
      "c:\\users\\jk\\anaconda3\\envs\\trade\\lib\\site-packages\\sklearn\\svm\\_base.py:947: ConvergenceWarning: Liblinear failed to converge, increase the number of iterations.\n",
      "  \"the number of iterations.\", ConvergenceWarning)\n"
     ]
    },
    {
     "name": "stdout",
     "output_type": "stream",
     "text": [
      "accuracy: 0.5426829268292683\n",
      "predicted class counts: Counter({-1: 353, 1: 154, 0: 149})\n",
      "\n",
      "\n",
      "ZTS accuracy: 0.5426829268292683. Average accuracy:0.5152810826888756\n",
      "Data spread: Counter({'-1': 921, '1': 905, '0': 804})\n"
     ]
    },
    {
     "name": "stderr",
     "output_type": "stream",
     "text": [
      "c:\\users\\jk\\anaconda3\\envs\\trade\\lib\\site-packages\\sklearn\\svm\\_base.py:947: ConvergenceWarning: Liblinear failed to converge, increase the number of iterations.\n",
      "  \"the number of iterations.\", ConvergenceWarning)\n"
     ]
    },
    {
     "name": "stdout",
     "output_type": "stream",
     "text": [
      "accuracy: 0.4725609756097561\n",
      "predicted class counts: Counter({-1: 382, 1: 139, 0: 135})\n",
      "\n",
      "\n",
      "ZTS accuracy: 0.4725609756097561. Average accuracy:0.51426393728223\n",
      "Data spread: Counter({'-1': 921, '1': 905, '0': 804})\n"
     ]
    },
    {
     "name": "stderr",
     "output_type": "stream",
     "text": [
      "c:\\users\\jk\\anaconda3\\envs\\trade\\lib\\site-packages\\sklearn\\svm\\_base.py:947: ConvergenceWarning: Liblinear failed to converge, increase the number of iterations.\n",
      "  \"the number of iterations.\", ConvergenceWarning)\n"
     ]
    },
    {
     "name": "stdout",
     "output_type": "stream",
     "text": [
      "accuracy: 0.510670731707317\n",
      "predicted class counts: Counter({-1: 336, 1: 178, 0: 142})\n",
      "\n",
      "\n",
      "ZTS accuracy: 0.510670731707317. Average accuracy:0.5141803743618831\n",
      "Data spread: Counter({'-1': 921, '1': 905, '0': 804})\n"
     ]
    },
    {
     "name": "stderr",
     "output_type": "stream",
     "text": [
      "c:\\users\\jk\\anaconda3\\envs\\trade\\lib\\site-packages\\sklearn\\svm\\_base.py:947: ConvergenceWarning: Liblinear failed to converge, increase the number of iterations.\n",
      "  \"the number of iterations.\", ConvergenceWarning)\n"
     ]
    },
    {
     "name": "stdout",
     "output_type": "stream",
     "text": [
      "accuracy: 0.5228658536585366\n",
      "predicted class counts: Counter({-1: 314, 1: 205, 0: 137})\n",
      "\n",
      "\n",
      "ZTS accuracy: 0.5228658536585366. Average accuracy:0.5143777716186253\n",
      "Data spread: Counter({'-1': 921, '1': 905, '0': 804})\n"
     ]
    },
    {
     "name": "stderr",
     "output_type": "stream",
     "text": [
      "c:\\users\\jk\\anaconda3\\envs\\trade\\lib\\site-packages\\sklearn\\svm\\_base.py:947: ConvergenceWarning: Liblinear failed to converge, increase the number of iterations.\n",
      "  \"the number of iterations.\", ConvergenceWarning)\n"
     ]
    },
    {
     "name": "stdout",
     "output_type": "stream",
     "text": [
      "accuracy: 0.5152439024390244\n",
      "predicted class counts: Counter({-1: 363, 1: 161, 0: 132})\n",
      "\n",
      "\n",
      "ZTS accuracy: 0.5152439024390244. Average accuracy:0.5143970189701897\n",
      "Data spread: Counter({'-1': 921, '1': 905, '0': 804})\n"
     ]
    },
    {
     "name": "stderr",
     "output_type": "stream",
     "text": [
      "c:\\users\\jk\\anaconda3\\envs\\trade\\lib\\site-packages\\sklearn\\svm\\_base.py:947: ConvergenceWarning: Liblinear failed to converge, increase the number of iterations.\n",
      "  \"the number of iterations.\", ConvergenceWarning)\n"
     ]
    },
    {
     "name": "stdout",
     "output_type": "stream",
     "text": [
      "accuracy: 0.49390243902439024\n",
      "predicted class counts: Counter({-1: 365, 1: 181, 0: 110})\n",
      "\n",
      "\n",
      "ZTS accuracy: 0.49390243902439024. Average accuracy:0.5139514846235419\n",
      "Data spread: Counter({'-1': 921, '1': 905, '0': 804})\n"
     ]
    },
    {
     "name": "stderr",
     "output_type": "stream",
     "text": [
      "c:\\users\\jk\\anaconda3\\envs\\trade\\lib\\site-packages\\sklearn\\svm\\_base.py:947: ConvergenceWarning: Liblinear failed to converge, increase the number of iterations.\n",
      "  \"the number of iterations.\", ConvergenceWarning)\n"
     ]
    },
    {
     "name": "stdout",
     "output_type": "stream",
     "text": [
      "accuracy: 0.5076219512195121\n",
      "predicted class counts: Counter({-1: 349, 1: 174, 0: 133})\n",
      "\n",
      "\n",
      "ZTS accuracy: 0.5076219512195121. Average accuracy:0.5138168137000518\n",
      "Data spread: Counter({'-1': 921, '1': 905, '0': 804})\n"
     ]
    },
    {
     "name": "stderr",
     "output_type": "stream",
     "text": [
      "c:\\users\\jk\\anaconda3\\envs\\trade\\lib\\site-packages\\sklearn\\svm\\_base.py:947: ConvergenceWarning: Liblinear failed to converge, increase the number of iterations.\n",
      "  \"the number of iterations.\", ConvergenceWarning)\n"
     ]
    },
    {
     "name": "stdout",
     "output_type": "stream",
     "text": [
      "accuracy: 0.5060975609756098\n",
      "predicted class counts: Counter({-1: 324, 1: 183, 0: 149})\n",
      "\n",
      "\n",
      "ZTS accuracy: 0.5060975609756098. Average accuracy:0.5136559959349594\n",
      "Data spread: Counter({'-1': 921, '1': 905, '0': 804})\n"
     ]
    },
    {
     "name": "stderr",
     "output_type": "stream",
     "text": [
      "c:\\users\\jk\\anaconda3\\envs\\trade\\lib\\site-packages\\sklearn\\svm\\_base.py:947: ConvergenceWarning: Liblinear failed to converge, increase the number of iterations.\n",
      "  \"the number of iterations.\", ConvergenceWarning)\n"
     ]
    },
    {
     "name": "stdout",
     "output_type": "stream",
     "text": [
      "accuracy: 0.5457317073170732\n",
      "predicted class counts: Counter({-1: 354, 1: 153, 0: 149})\n",
      "\n",
      "\n",
      "ZTS accuracy: 0.5457317073170732. Average accuracy:0.5143106022896964\n",
      "Data spread: Counter({'-1': 921, '1': 905, '0': 804})\n"
     ]
    },
    {
     "name": "stderr",
     "output_type": "stream",
     "text": [
      "c:\\users\\jk\\anaconda3\\envs\\trade\\lib\\site-packages\\sklearn\\svm\\_base.py:947: ConvergenceWarning: Liblinear failed to converge, increase the number of iterations.\n",
      "  \"the number of iterations.\", ConvergenceWarning)\n"
     ]
    },
    {
     "name": "stdout",
     "output_type": "stream",
     "text": [
      "accuracy: 0.5274390243902439\n",
      "predicted class counts: Counter({-1: 352, 1: 164, 0: 140})\n",
      "\n",
      "\n",
      "ZTS accuracy: 0.5274390243902439. Average accuracy:0.5145731707317073\n",
      "50\n",
      "Data spread: Counter({'-1': 921, '1': 905, '0': 804})\n"
     ]
    },
    {
     "name": "stderr",
     "output_type": "stream",
     "text": [
      "c:\\users\\jk\\anaconda3\\envs\\trade\\lib\\site-packages\\sklearn\\svm\\_base.py:947: ConvergenceWarning: Liblinear failed to converge, increase the number of iterations.\n",
      "  \"the number of iterations.\", ConvergenceWarning)\n"
     ]
    },
    {
     "name": "stdout",
     "output_type": "stream",
     "text": [
      "accuracy: 0.5503048780487805\n",
      "predicted class counts: Counter({-1: 361, 0: 150, 1: 145})\n",
      "\n",
      "\n",
      "ZTS accuracy: 0.5503048780487805. Average accuracy:0.5152737924438068\n",
      "Data spread: Counter({'-1': 921, '1': 905, '0': 804})\n"
     ]
    },
    {
     "name": "stderr",
     "output_type": "stream",
     "text": [
      "c:\\users\\jk\\anaconda3\\envs\\trade\\lib\\site-packages\\sklearn\\svm\\_base.py:947: ConvergenceWarning: Liblinear failed to converge, increase the number of iterations.\n",
      "  \"the number of iterations.\", ConvergenceWarning)\n"
     ]
    },
    {
     "name": "stdout",
     "output_type": "stream",
     "text": [
      "accuracy: 0.5579268292682927\n",
      "predicted class counts: Counter({-1: 342, 1: 175, 0: 139})\n",
      "\n",
      "\n",
      "ZTS accuracy: 0.5579268292682927. Average accuracy:0.5160940431519699\n",
      "Data spread: Counter({'-1': 921, '1': 905, '0': 804})\n"
     ]
    },
    {
     "name": "stderr",
     "output_type": "stream",
     "text": [
      "c:\\users\\jk\\anaconda3\\envs\\trade\\lib\\site-packages\\sklearn\\svm\\_base.py:947: ConvergenceWarning: Liblinear failed to converge, increase the number of iterations.\n",
      "  \"the number of iterations.\", ConvergenceWarning)\n"
     ]
    },
    {
     "name": "stdout",
     "output_type": "stream",
     "text": [
      "accuracy: 0.538109756097561\n",
      "predicted class counts: Counter({-1: 368, 1: 166, 0: 122})\n",
      "\n",
      "\n",
      "ZTS accuracy: 0.538109756097561. Average accuracy:0.5165094339622641\n",
      "Data spread: Counter({'-1': 921, '1': 905, '0': 804})\n"
     ]
    },
    {
     "name": "stderr",
     "output_type": "stream",
     "text": [
      "c:\\users\\jk\\anaconda3\\envs\\trade\\lib\\site-packages\\sklearn\\svm\\_base.py:947: ConvergenceWarning: Liblinear failed to converge, increase the number of iterations.\n",
      "  \"the number of iterations.\", ConvergenceWarning)\n"
     ]
    },
    {
     "name": "stdout",
     "output_type": "stream",
     "text": [
      "accuracy: 0.5335365853658537\n",
      "predicted class counts: Counter({-1: 334, 1: 167, 0: 155})\n",
      "\n",
      "\n",
      "ZTS accuracy: 0.5335365853658537. Average accuracy:0.5168247515808492\n",
      "Data spread: Counter({'-1': 921, '1': 905, '0': 804})\n"
     ]
    },
    {
     "name": "stderr",
     "output_type": "stream",
     "text": [
      "c:\\users\\jk\\anaconda3\\envs\\trade\\lib\\site-packages\\sklearn\\svm\\_base.py:947: ConvergenceWarning: Liblinear failed to converge, increase the number of iterations.\n",
      "  \"the number of iterations.\", ConvergenceWarning)\n"
     ]
    },
    {
     "name": "stdout",
     "output_type": "stream",
     "text": [
      "accuracy: 0.5457317073170732\n",
      "predicted class counts: Counter({-1: 391, 0: 138, 1: 127})\n",
      "\n",
      "\n",
      "ZTS accuracy: 0.5457317073170732. Average accuracy:0.517350332594235\n",
      "Data spread: Counter({'-1': 921, '1': 905, '0': 804})\n"
     ]
    },
    {
     "name": "stderr",
     "output_type": "stream",
     "text": [
      "c:\\users\\jk\\anaconda3\\envs\\trade\\lib\\site-packages\\sklearn\\svm\\_base.py:947: ConvergenceWarning: Liblinear failed to converge, increase the number of iterations.\n",
      "  \"the number of iterations.\", ConvergenceWarning)\n"
     ]
    },
    {
     "name": "stdout",
     "output_type": "stream",
     "text": [
      "accuracy: 0.5396341463414634\n",
      "predicted class counts: Counter({-1: 363, 0: 155, 1: 138})\n",
      "\n",
      "\n",
      "ZTS accuracy: 0.5396341463414634. Average accuracy:0.5177482578397212\n",
      "Data spread: Counter({'-1': 921, '1': 905, '0': 804})\n"
     ]
    },
    {
     "name": "stderr",
     "output_type": "stream",
     "text": [
      "c:\\users\\jk\\anaconda3\\envs\\trade\\lib\\site-packages\\sklearn\\svm\\_base.py:947: ConvergenceWarning: Liblinear failed to converge, increase the number of iterations.\n",
      "  \"the number of iterations.\", ConvergenceWarning)\n"
     ]
    },
    {
     "name": "stdout",
     "output_type": "stream",
     "text": [
      "accuracy: 0.49847560975609756\n",
      "predicted class counts: Counter({-1: 349, 1: 204, 0: 103})\n",
      "\n",
      "\n",
      "ZTS accuracy: 0.49847560975609756. Average accuracy:0.5174101412066753\n",
      "Data spread: Counter({'-1': 921, '1': 905, '0': 804})\n"
     ]
    },
    {
     "name": "stderr",
     "output_type": "stream",
     "text": [
      "c:\\users\\jk\\anaconda3\\envs\\trade\\lib\\site-packages\\sklearn\\svm\\_base.py:947: ConvergenceWarning: Liblinear failed to converge, increase the number of iterations.\n",
      "  \"the number of iterations.\", ConvergenceWarning)\n"
     ]
    },
    {
     "name": "stdout",
     "output_type": "stream",
     "text": [
      "accuracy: 0.5274390243902439\n",
      "predicted class counts: Counter({-1: 348, 1: 157, 0: 151})\n",
      "\n",
      "\n",
      "ZTS accuracy: 0.5274390243902439. Average accuracy:0.5175830529857023\n",
      "Data spread: Counter({'-1': 921, '1': 905, '0': 804})\n"
     ]
    },
    {
     "name": "stderr",
     "output_type": "stream",
     "text": [
      "c:\\users\\jk\\anaconda3\\envs\\trade\\lib\\site-packages\\sklearn\\svm\\_base.py:947: ConvergenceWarning: Liblinear failed to converge, increase the number of iterations.\n",
      "  \"the number of iterations.\", ConvergenceWarning)\n"
     ]
    },
    {
     "name": "stdout",
     "output_type": "stream",
     "text": [
      "accuracy: 0.4740853658536585\n",
      "predicted class counts: Counter({-1: 366, 1: 180, 0: 110})\n",
      "\n",
      "\n",
      "ZTS accuracy: 0.4740853658536585. Average accuracy:0.5168458040512609\n",
      "Data spread: Counter({'-1': 921, '1': 905, '0': 804})\n"
     ]
    },
    {
     "name": "stderr",
     "output_type": "stream",
     "text": [
      "c:\\users\\jk\\anaconda3\\envs\\trade\\lib\\site-packages\\sklearn\\svm\\_base.py:947: ConvergenceWarning: Liblinear failed to converge, increase the number of iterations.\n",
      "  \"the number of iterations.\", ConvergenceWarning)\n"
     ]
    },
    {
     "name": "stdout",
     "output_type": "stream",
     "text": [
      "accuracy: 0.5503048780487805\n",
      "predicted class counts: Counter({-1: 357, 0: 154, 1: 145})\n",
      "\n",
      "\n",
      "ZTS accuracy: 0.5503048780487805. Average accuracy:0.5174034552845529\n",
      "60\n",
      "Data spread: Counter({'-1': 921, '1': 905, '0': 804})\n"
     ]
    },
    {
     "name": "stderr",
     "output_type": "stream",
     "text": [
      "c:\\users\\jk\\anaconda3\\envs\\trade\\lib\\site-packages\\sklearn\\svm\\_base.py:947: ConvergenceWarning: Liblinear failed to converge, increase the number of iterations.\n",
      "  \"the number of iterations.\", ConvergenceWarning)\n"
     ]
    },
    {
     "name": "stdout",
     "output_type": "stream",
     "text": [
      "accuracy: 0.5\n",
      "predicted class counts: Counter({-1: 337, 1: 168, 0: 151})\n",
      "\n",
      "\n",
      "ZTS accuracy: 0.5. Average accuracy:0.5171181527389045\n",
      "Data spread: Counter({'-1': 921, '1': 905, '0': 804})\n"
     ]
    },
    {
     "name": "stderr",
     "output_type": "stream",
     "text": [
      "c:\\users\\jk\\anaconda3\\envs\\trade\\lib\\site-packages\\sklearn\\svm\\_base.py:947: ConvergenceWarning: Liblinear failed to converge, increase the number of iterations.\n",
      "  \"the number of iterations.\", ConvergenceWarning)\n"
     ]
    },
    {
     "name": "stdout",
     "output_type": "stream",
     "text": [
      "accuracy: 0.4893292682926829\n",
      "predicted class counts: Counter({-1: 345, 1: 173, 0: 138})\n",
      "\n",
      "\n",
      "ZTS accuracy: 0.4893292682926829. Average accuracy:0.5166699449252558\n",
      "Data spread: Counter({'-1': 921, '1': 905, '0': 804})\n"
     ]
    },
    {
     "name": "stderr",
     "output_type": "stream",
     "text": [
      "c:\\users\\jk\\anaconda3\\envs\\trade\\lib\\site-packages\\sklearn\\svm\\_base.py:947: ConvergenceWarning: Liblinear failed to converge, increase the number of iterations.\n",
      "  \"the number of iterations.\", ConvergenceWarning)\n"
     ]
    },
    {
     "name": "stdout",
     "output_type": "stream",
     "text": [
      "accuracy: 0.5045731707317073\n",
      "predicted class counts: Counter({-1: 392, 1: 157, 0: 107})\n",
      "\n",
      "\n",
      "ZTS accuracy: 0.5045731707317073. Average accuracy:0.5164779326364692\n",
      "Data spread: Counter({'-1': 921, '1': 905, '0': 804})\n"
     ]
    },
    {
     "name": "stderr",
     "output_type": "stream",
     "text": [
      "c:\\users\\jk\\anaconda3\\envs\\trade\\lib\\site-packages\\sklearn\\svm\\_base.py:947: ConvergenceWarning: Liblinear failed to converge, increase the number of iterations.\n",
      "  \"the number of iterations.\", ConvergenceWarning)\n"
     ]
    },
    {
     "name": "stdout",
     "output_type": "stream",
     "text": [
      "accuracy: 0.5365853658536586\n",
      "predicted class counts: Counter({-1: 309, 1: 238, 0: 109})\n",
      "\n",
      "\n",
      "ZTS accuracy: 0.5365853658536586. Average accuracy:0.5167921112804879\n",
      "Data spread: Counter({'-1': 921, '1': 905, '0': 804})\n"
     ]
    },
    {
     "name": "stderr",
     "output_type": "stream",
     "text": [
      "c:\\users\\jk\\anaconda3\\envs\\trade\\lib\\site-packages\\sklearn\\svm\\_base.py:947: ConvergenceWarning: Liblinear failed to converge, increase the number of iterations.\n",
      "  \"the number of iterations.\", ConvergenceWarning)\n"
     ]
    },
    {
     "name": "stdout",
     "output_type": "stream",
     "text": [
      "accuracy: 0.5625\n",
      "predicted class counts: Counter({-1: 322, 1: 193, 0: 141})\n",
      "\n",
      "\n",
      "ZTS accuracy: 0.5625. Average accuracy:0.5174953095684803\n",
      "Data spread: Counter({'-1': 921, '1': 905, '0': 804})\n"
     ]
    },
    {
     "name": "stderr",
     "output_type": "stream",
     "text": [
      "c:\\users\\jk\\anaconda3\\envs\\trade\\lib\\site-packages\\sklearn\\svm\\_base.py:947: ConvergenceWarning: Liblinear failed to converge, increase the number of iterations.\n",
      "  \"the number of iterations.\", ConvergenceWarning)\n"
     ]
    },
    {
     "name": "stdout",
     "output_type": "stream",
     "text": [
      "accuracy: 0.5457317073170732\n",
      "predicted class counts: Counter({-1: 365, 0: 151, 1: 140})\n",
      "\n",
      "\n",
      "ZTS accuracy: 0.5457317073170732. Average accuracy:0.5179231337767923\n",
      "Data spread: Counter({'-1': 921, '1': 905, '0': 804})\n"
     ]
    },
    {
     "name": "stderr",
     "output_type": "stream",
     "text": [
      "c:\\users\\jk\\anaconda3\\envs\\trade\\lib\\site-packages\\sklearn\\svm\\_base.py:947: ConvergenceWarning: Liblinear failed to converge, increase the number of iterations.\n",
      "  \"the number of iterations.\", ConvergenceWarning)\n"
     ]
    },
    {
     "name": "stdout",
     "output_type": "stream",
     "text": [
      "accuracy: 0.5152439024390244\n",
      "predicted class counts: Counter({-1: 328, 1: 186, 0: 142})\n",
      "\n",
      "\n",
      "ZTS accuracy: 0.5152439024390244. Average accuracy:0.517883145249363\n",
      "Data spread: Counter({'-1': 921, '1': 905, '0': 804})\n"
     ]
    },
    {
     "name": "stderr",
     "output_type": "stream",
     "text": [
      "c:\\users\\jk\\anaconda3\\envs\\trade\\lib\\site-packages\\sklearn\\svm\\_base.py:947: ConvergenceWarning: Liblinear failed to converge, increase the number of iterations.\n",
      "  \"the number of iterations.\", ConvergenceWarning)\n"
     ]
    },
    {
     "name": "stdout",
     "output_type": "stream",
     "text": [
      "accuracy: 0.5259146341463414\n",
      "predicted class counts: Counter({-1: 356, 1: 170, 0: 130})\n",
      "\n",
      "\n",
      "ZTS accuracy: 0.5259146341463414. Average accuracy:0.5180012553802008\n",
      "Data spread: Counter({'-1': 921, '1': 905, '0': 804})\n"
     ]
    },
    {
     "name": "stderr",
     "output_type": "stream",
     "text": [
      "c:\\users\\jk\\anaconda3\\envs\\trade\\lib\\site-packages\\sklearn\\svm\\_base.py:947: ConvergenceWarning: Liblinear failed to converge, increase the number of iterations.\n",
      "  \"the number of iterations.\", ConvergenceWarning)\n"
     ]
    },
    {
     "name": "stdout",
     "output_type": "stream",
     "text": [
      "accuracy: 0.5167682926829268\n",
      "predicted class counts: Counter({-1: 320, 1: 219, 0: 117})\n",
      "\n",
      "\n",
      "ZTS accuracy: 0.5167682926829268. Average accuracy:0.5179833863556027\n",
      "Data spread: Counter({'-1': 921, '1': 905, '0': 804})\n"
     ]
    },
    {
     "name": "stderr",
     "output_type": "stream",
     "text": [
      "c:\\users\\jk\\anaconda3\\envs\\trade\\lib\\site-packages\\sklearn\\svm\\_base.py:947: ConvergenceWarning: Liblinear failed to converge, increase the number of iterations.\n",
      "  \"the number of iterations.\", ConvergenceWarning)\n"
     ]
    },
    {
     "name": "stdout",
     "output_type": "stream",
     "text": [
      "accuracy: 0.5030487804878049\n",
      "predicted class counts: Counter({-1: 385, 1: 151, 0: 120})\n",
      "\n",
      "\n",
      "ZTS accuracy: 0.5030487804878049. Average accuracy:0.5177700348432056\n",
      "70\n",
      "Data spread: Counter({'-1': 921, '1': 905, '0': 804})\n"
     ]
    },
    {
     "name": "stderr",
     "output_type": "stream",
     "text": [
      "c:\\users\\jk\\anaconda3\\envs\\trade\\lib\\site-packages\\sklearn\\svm\\_base.py:947: ConvergenceWarning: Liblinear failed to converge, increase the number of iterations.\n",
      "  \"the number of iterations.\", ConvergenceWarning)\n"
     ]
    },
    {
     "name": "stdout",
     "output_type": "stream",
     "text": [
      "accuracy: 0.49085365853658536\n",
      "predicted class counts: Counter({-1: 318, 1: 204, 0: 134})\n",
      "\n",
      "\n",
      "ZTS accuracy: 0.49085365853658536. Average accuracy:0.5173909309515631\n",
      "Data spread: Counter({'-1': 921, '1': 905, '0': 804})\n"
     ]
    },
    {
     "name": "stderr",
     "output_type": "stream",
     "text": [
      "c:\\users\\jk\\anaconda3\\envs\\trade\\lib\\site-packages\\sklearn\\svm\\_base.py:947: ConvergenceWarning: Liblinear failed to converge, increase the number of iterations.\n",
      "  \"the number of iterations.\", ConvergenceWarning)\n"
     ]
    },
    {
     "name": "stdout",
     "output_type": "stream",
     "text": [
      "accuracy: 0.5335365853658537\n",
      "predicted class counts: Counter({-1: 347, 1: 157, 0: 152})\n",
      "\n",
      "\n",
      "ZTS accuracy: 0.5335365853658537. Average accuracy:0.5176151761517616\n",
      "Data spread: Counter({'-1': 921, '1': 905, '0': 804})\n"
     ]
    },
    {
     "name": "stderr",
     "output_type": "stream",
     "text": [
      "c:\\users\\jk\\anaconda3\\envs\\trade\\lib\\site-packages\\sklearn\\svm\\_base.py:947: ConvergenceWarning: Liblinear failed to converge, increase the number of iterations.\n",
      "  \"the number of iterations.\", ConvergenceWarning)\n"
     ]
    },
    {
     "name": "stdout",
     "output_type": "stream",
     "text": [
      "accuracy: 0.5091463414634146\n",
      "predicted class counts: Counter({-1: 347, 1: 193, 0: 116})\n",
      "\n",
      "\n",
      "ZTS accuracy: 0.5091463414634146. Average accuracy:0.5174991647176745\n",
      "Data spread: Counter({'-1': 921, '1': 905, '0': 804})\n"
     ]
    },
    {
     "name": "stderr",
     "output_type": "stream",
     "text": [
      "c:\\users\\jk\\anaconda3\\envs\\trade\\lib\\site-packages\\sklearn\\svm\\_base.py:947: ConvergenceWarning: Liblinear failed to converge, increase the number of iterations.\n",
      "  \"the number of iterations.\", ConvergenceWarning)\n"
     ]
    },
    {
     "name": "stdout",
     "output_type": "stream",
     "text": [
      "accuracy: 0.5304878048780488\n",
      "predicted class counts: Counter({-1: 345, 1: 181, 0: 130})\n",
      "\n",
      "\n",
      "ZTS accuracy: 0.5304878048780488. Average accuracy:0.5176746868820039\n",
      "Data spread: Counter({'-1': 921, '1': 905, '0': 804})\n"
     ]
    },
    {
     "name": "stderr",
     "output_type": "stream",
     "text": [
      "c:\\users\\jk\\anaconda3\\envs\\trade\\lib\\site-packages\\sklearn\\svm\\_base.py:947: ConvergenceWarning: Liblinear failed to converge, increase the number of iterations.\n",
      "  \"the number of iterations.\", ConvergenceWarning)\n"
     ]
    },
    {
     "name": "stdout",
     "output_type": "stream",
     "text": [
      "accuracy: 0.510670731707317\n",
      "predicted class counts: Counter({-1: 386, 1: 160, 0: 110})\n",
      "\n",
      "\n",
      "ZTS accuracy: 0.510670731707317. Average accuracy:0.5175813008130081\n",
      "Data spread: Counter({'-1': 921, '1': 905, '0': 804})\n"
     ]
    },
    {
     "name": "stderr",
     "output_type": "stream",
     "text": [
      "c:\\users\\jk\\anaconda3\\envs\\trade\\lib\\site-packages\\sklearn\\svm\\_base.py:947: ConvergenceWarning: Liblinear failed to converge, increase the number of iterations.\n",
      "  \"the number of iterations.\", ConvergenceWarning)\n"
     ]
    },
    {
     "name": "stdout",
     "output_type": "stream",
     "text": [
      "accuracy: 0.5060975609756098\n",
      "predicted class counts: Counter({-1: 324, 1: 205, 0: 127})\n",
      "\n",
      "\n",
      "ZTS accuracy: 0.5060975609756098. Average accuracy:0.5174301989730423\n",
      "Data spread: Counter({'-1': 921, '1': 905, '0': 804})\n"
     ]
    },
    {
     "name": "stderr",
     "output_type": "stream",
     "text": [
      "c:\\users\\jk\\anaconda3\\envs\\trade\\lib\\site-packages\\sklearn\\svm\\_base.py:947: ConvergenceWarning: Liblinear failed to converge, increase the number of iterations.\n",
      "  \"the number of iterations.\", ConvergenceWarning)\n"
     ]
    },
    {
     "name": "stdout",
     "output_type": "stream",
     "text": [
      "accuracy: 0.5015243902439024\n",
      "predicted class counts: Counter({-1: 348, 1: 186, 0: 122})\n",
      "\n",
      "\n",
      "ZTS accuracy: 0.5015243902439024. Average accuracy:0.5172236300285081\n",
      "Data spread: Counter({'-1': 921, '1': 905, '0': 804})\n"
     ]
    }
   ],
   "source": [
    "from statistics import mean\n",
    "\n",
    "with open(\"sp500tickers.pickle\",\"rb\") as f:\n",
    "    tickers = pickle.load(f)\n",
    "\n",
    "accuracies = []\n",
    "for count,ticker in enumerate(tickers):\n",
    "    for ticker in tickers:\n",
    "        ticker = ticker.strip(\"\\n\")\n",
    "        if \".\" in ticker:\n",
    "            ticker = ticker.replace(\".\",\"-\")\n",
    "    if count%10==0:\n",
    "        print(count)\n",
    "\n",
    "    accuracy = do_ml(ticker)\n",
    "    accuracies.append(accuracy)\n",
    "    print(\"{} accuracy: {}. Average accuracy:{}\".format(ticker,accuracy,mean(accuracies)))"
   ]
  },
  {
   "cell_type": "code",
   "execution_count": null,
   "metadata": {},
   "outputs": [],
   "source": []
  }
 ],
 "metadata": {
  "kernelspec": {
   "display_name": "Python 3",
   "language": "python",
   "name": "python3"
  },
  "language_info": {
   "codemirror_mode": {
    "name": "ipython",
    "version": 3
   },
   "file_extension": ".py",
   "mimetype": "text/x-python",
   "name": "python",
   "nbconvert_exporter": "python",
   "pygments_lexer": "ipython3",
   "version": "3.7.3"
  }
 },
 "nbformat": 4,
 "nbformat_minor": 4
}
