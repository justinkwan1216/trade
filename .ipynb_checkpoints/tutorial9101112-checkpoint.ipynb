{
 "cells": [
  {
   "cell_type": "code",
   "execution_count": 1,
   "metadata": {},
   "outputs": [],
   "source": [
    "import bs4 as bs\n",
    "import datetime as dt\n",
    "import matplotlib.pyplot as plt\n",
    "from matplotlib import style\n",
    "import numpy as np\n",
    "import os\n",
    "import pandas as pd\n",
    "import pandas_datareader.data as web\n",
    "import pickle\n",
    "import requests\n",
    "from collections import Counter\n",
    "from sklearn.model_selection import cross_validate\n",
    "from sklearn.model_selection import train_test_split\n",
    "from sklearn import svm, neighbors\n",
    "from sklearn.ensemble import VotingClassifier, RandomForestClassifier\n",
    "def process_data_for_labels(ticker):\n",
    "    hm_days = 7\n",
    "    df = pd.read_csv('sp500_joined_closes.csv', index_col=0)\n",
    "    tickers = df.columns.values.tolist()\n",
    "    df.fillna(0, inplace=True)\n",
    "\n",
    "    for i in range(1,hm_days+1):\n",
    "        df['{}_{}d'.format(ticker,i)] = (df[ticker].shift(-i) - df[ticker]) / df[ticker]\n",
    "\n",
    "    df.fillna(0, inplace=True)\n",
    "    return tickers, df\n",
    "\n",
    "a, b = process_data_for_labels('XOM')\n",
    "\n",
    "def buy_sell_hold(*args):\n",
    "    cols = [c for c in args]\n",
    "    requirement = 0.02\n",
    "    for col in cols:\n",
    "        if col > requirement:\n",
    "            return 1\n",
    "        if col < -requirement:\n",
    "            return -1\n",
    "    return 0"
   ]
  },
  {
   "cell_type": "code",
   "execution_count": 2,
   "metadata": {},
   "outputs": [],
   "source": [
    "def extract_featuresets(ticker):\n",
    "    tickers, df = process_data_for_labels(ticker)\n",
    "\n",
    "    df['{}_target'.format(ticker)] = list(map( buy_sell_hold,\n",
    "                                               df['{}_1d'.format(ticker)],\n",
    "                                               df['{}_2d'.format(ticker)],\n",
    "                                               df['{}_3d'.format(ticker)],\n",
    "                                               df['{}_4d'.format(ticker)],\n",
    "                                               df['{}_5d'.format(ticker)],\n",
    "                                               df['{}_6d'.format(ticker)],\n",
    "                                               df['{}_7d'.format(ticker)] ))\n",
    "    #print(df.head())\n",
    "    vals = df['{}_target'.format(ticker)].values.tolist()\n",
    "    str_vals = [str(i) for i in vals]\n",
    "    print('Data spread:',Counter(str_vals))\n",
    "    df.fillna(0, inplace=True)\n",
    "    df = df.replace([np.inf, -np.inf], np.nan)\n",
    "    df.dropna(inplace=True)\n",
    "    df_vals = df[[ticker for ticker in tickers]].pct_change()\n",
    "    df_vals = df_vals.replace([np.inf, -np.inf], 0)\n",
    "    df_vals.fillna(0, inplace=True)\n",
    "    X = df_vals.values\n",
    "    y = df['{}_target'.format(ticker)].values\n",
    "\n",
    "    return X,y,df\n",
    "#extract_featuresets('XOM')"
   ]
  },
  {
   "cell_type": "code",
   "execution_count": 3,
   "metadata": {},
   "outputs": [
    {
     "name": "stdout",
     "output_type": "stream",
     "text": [
      "Data spread: Counter({'-1': 1347, '1': 1224, '0': 59})\n"
     ]
    },
    {
     "name": "stderr",
     "output_type": "stream",
     "text": [
      "c:\\users\\jk\\anaconda3\\envs\\trade\\lib\\site-packages\\sklearn\\svm\\_base.py:947: ConvergenceWarning: Liblinear failed to converge, increase the number of iterations.\n",
      "  \"the number of iterations.\", ConvergenceWarning)\n"
     ]
    },
    {
     "name": "stdout",
     "output_type": "stream",
     "text": [
      "accuracy: 0.5045592705167173\n",
      "predicted class counts: Counter({-1: 434, 1: 223, 0: 1})\n",
      "\n",
      "\n",
      "Data spread: Counter({'-1': 1376, '1': 1201, '0': 53})\n"
     ]
    },
    {
     "name": "stderr",
     "output_type": "stream",
     "text": [
      "c:\\users\\jk\\anaconda3\\envs\\trade\\lib\\site-packages\\sklearn\\svm\\_base.py:947: ConvergenceWarning: Liblinear failed to converge, increase the number of iterations.\n",
      "  \"the number of iterations.\", ConvergenceWarning)\n"
     ]
    },
    {
     "name": "stdout",
     "output_type": "stream",
     "text": [
      "accuracy: 0.5501519756838906\n",
      "predicted class counts: Counter({-1: 376, 1: 281, 0: 1})\n",
      "\n",
      "\n",
      "Data spread: Counter({'-1': 1340, '1': 1215, '0': 75})\n"
     ]
    },
    {
     "name": "stderr",
     "output_type": "stream",
     "text": [
      "c:\\users\\jk\\anaconda3\\envs\\trade\\lib\\site-packages\\sklearn\\svm\\_base.py:947: ConvergenceWarning: Liblinear failed to converge, increase the number of iterations.\n",
      "  \"the number of iterations.\", ConvergenceWarning)\n"
     ]
    },
    {
     "name": "stdout",
     "output_type": "stream",
     "text": [
      "accuracy: 0.47416413373860183\n",
      "predicted class counts: Counter({-1: 401, 1: 256, 0: 1})\n",
      "\n",
      "\n"
     ]
    },
    {
     "data": {
      "text/plain": [
       "0.47416413373860183"
      ]
     },
     "execution_count": 3,
     "metadata": {},
     "output_type": "execute_result"
    }
   ],
   "source": [
    "def do_ml(ticker):\n",
    "    X, y, df = extract_featuresets(ticker)\n",
    "\n",
    "    X_train, X_test, y_train, y_test = train_test_split(X, y, test_size=0.25)\n",
    "\n",
    "    clf = VotingClassifier([('lsvc', svm.LinearSVC()),\n",
    "                            ('knn', neighbors.KNeighborsClassifier()),\n",
    "                            ('rfor', RandomForestClassifier())])\n",
    "\n",
    "    clf.fit(X_train, y_train)\n",
    "    confidence = clf.score(X_test, y_test)\n",
    "    print('accuracy:', confidence)\n",
    "    predictions = clf.predict(X_test)\n",
    "    print('predicted class counts:', Counter(predictions))\n",
    "    print()\n",
    "    print()\n",
    "    return confidence\n",
    "\n",
    "\n",
    "# examples of running:\n",
    "do_ml('XOM')\n",
    "do_ml('AAPL')\n",
    "do_ml('ABT')"
   ]
  },
  {
   "cell_type": "code",
   "execution_count": null,
   "metadata": {},
   "outputs": [
    {
     "name": "stdout",
     "output_type": "stream",
     "text": [
      "0\n",
      "Data spread: Counter({'-1': 921, '1': 905, '0': 804})\n"
     ]
    },
    {
     "name": "stderr",
     "output_type": "stream",
     "text": [
      "c:\\users\\jk\\anaconda3\\envs\\trade\\lib\\site-packages\\sklearn\\svm\\_base.py:947: ConvergenceWarning: Liblinear failed to converge, increase the number of iterations.\n",
      "  \"the number of iterations.\", ConvergenceWarning)\n"
     ]
    },
    {
     "name": "stdout",
     "output_type": "stream",
     "text": [
      "accuracy: 0.5304878048780488\n",
      "predicted class counts: Counter({-1: 356, 1: 168, 0: 132})\n",
      "\n",
      "\n",
      "ZTS accuracy: 0.5304878048780488. Average accuracy:0.5304878048780488\n",
      "Data spread: Counter({'-1': 921, '1': 905, '0': 804})\n"
     ]
    }
   ],
   "source": [
    "from statistics import mean\n",
    "\n",
    "with open(\"sp500tickers.pickle\",\"rb\") as f:\n",
    "    tickers = pickle.load(f)\n",
    "\n",
    "accuracies = []\n",
    "for count,ticker in enumerate(tickers):\n",
    "    for ticker in tickers:\n",
    "        ticker = ticker.strip(\"\\n\")\n",
    "        if \".\" in ticker:\n",
    "            ticker = ticker.replace(\".\",\"-\")\n",
    "    if count%10==0:\n",
    "        print(count)\n",
    "\n",
    "    accuracy = do_ml(ticker)\n",
    "    accuracies.append(accuracy)\n",
    "    print(\"{} accuracy: {}. Average accuracy:{}\".format(ticker,accuracy,mean(accuracies)))"
   ]
  },
  {
   "cell_type": "code",
   "execution_count": null,
   "metadata": {},
   "outputs": [],
   "source": []
  }
 ],
 "metadata": {
  "kernelspec": {
   "display_name": "Python 3",
   "language": "python",
   "name": "python3"
  },
  "language_info": {
   "codemirror_mode": {
    "name": "ipython",
    "version": 3
   },
   "file_extension": ".py",
   "mimetype": "text/x-python",
   "name": "python",
   "nbconvert_exporter": "python",
   "pygments_lexer": "ipython3",
   "version": "3.5.6"
  }
 },
 "nbformat": 4,
 "nbformat_minor": 4
}
